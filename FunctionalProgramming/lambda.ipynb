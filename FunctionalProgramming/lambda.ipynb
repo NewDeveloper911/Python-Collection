{
 "cells": [
  {
   "attachments": {},
   "cell_type": "markdown",
   "metadata": {},
   "source": [
    "**Functional Programming**\n",
    "\n",
    "We can define anonymous functions in Python using the lambda keyword - that's because these anonymous functions rely on lambda calculus"
   ]
  },
  {
   "cell_type": "code",
   "execution_count": null,
   "metadata": {},
   "outputs": [],
   "source": [
    "#In this function, we basically declare two variables: x and y. These variables are then bound to the function on the other side of the colon.  In this function, we add these two variables together \n",
    "add = lambda x,y : x + y\n",
    "\n",
    "#The more precise lambda function formulation\n",
    "add = lambda x: lambda y: x + y"
   ]
  },
  {
   "cell_type": "markdown",
   "metadata": {},
   "source": [
    "**So how do we use certain data structures?**\n",
    "\n",
    "Functional programming doesn't like to use mutable (changing) data so variables isn't technically the right word for them. That means that data stored in memory locations must be immutable (unable to change once set). This allows functional programming to do its thing: perform Maths operations - can't do that as easily if data is changing mid-calculation.\n",
    "One of such data structures would be sets.\n",
    "Python's sets are by default mutable, so the frozenset must be used to provide functional capabilities."
   ]
  },
  {
   "cell_type": "code",
   "execution_count": 2,
   "metadata": {},
   "outputs": [
    {
     "name": "stdout",
     "output_type": "stream",
     "text": [
      "Found it.\n"
     ]
    }
   ],
   "source": [
    "myFSet = frozenset([1,2,3,4,5,6,7])\n",
    "\n",
    "#The problem with immutable data sets is that you can't directly interact with the individual values but rather the set as a whole\n",
    "#That means to find a value in an immutable data set, you can only iterate across the whole set\n",
    "#Basically, no myFSet[1]\n",
    "\n",
    "for entry in myFSet:\n",
    "    if entry == 1:\n",
    "        print(\"Found it.\")"
   ]
  },
  {
   "cell_type": "markdown",
   "metadata": {},
   "source": [
    "**How can we actually use functional programming?**\n",
    "\n",
    "Functional programming is really good for pattern matching. Pattern must be defined using regular expressions (RegEx). Python will use the re library to perform these functions."
   ]
  },
  {
   "cell_type": "markdown",
   "metadata": {},
   "source": [
    "**Representing regular expressions**\n",
    "\n",
    "*The following list of anchors define how to interact with a regular expression:*\n",
    "\n",
    "\n",
    "^ - Looks at the start of the string\n",
    "\n",
    "$ - Looks at the end of the string\n",
    "\n",
    "'*' - Matches 0 or more occurences of the specified character\n",
    "\n",
    "'+' - Matches 1 or more occurences of the specified character\n",
    "\n",
    "? - Matches 0 or 1 occurences of the specified character\n",
    "\n",
    "{d} - Specifies d number of the preceding characters required for a match\n",
    "\n",
    "{m,n} - Specifies the range from m to n number of preceding characters required for a match\n",
    "\n",
    "expression|expression - It's a match when either expression next to the solidus is located\n",
    "\n",
    " "
   ]
  },
  {
   "cell_type": "markdown",
   "metadata": {},
   "source": [
    "**Using grouping constructs in regular expressions**\n",
    "\n",
    "A grouping construct tells the regular expressions to treat a series of characters as a group. Below are the constructs used to define these groups.\n",
    "\n",
    "***The grouping constructs:***\n",
    "\n",
    "[x] - Look for a single character from the characters specifed by x\n",
    "\n",
    "[x-y] - Search for a single character from the range of characters specified by x and y\n",
    "\n",
    "[^expression] - Locate any single character not found in the character expression\n",
    "\n",
    "(expression) - defines a regular expression group (treats this group like you would a string in other languages - they must match together)"
   ]
  },
  {
   "cell_type": "markdown",
   "metadata": {},
   "source": [
    "***Using Python for pattern matching***"
   ]
  },
  {
   "cell_type": "code",
   "execution_count": 1,
   "metadata": {},
   "outputs": [
    {
     "data": {
      "text/plain": [
       "['i', 'i', 'a', 'e', 'e', 'e']"
      ]
     },
     "execution_count": 1,
     "metadata": {},
     "output_type": "execute_result"
    }
   ],
   "source": [
    "import re\n",
    "\n",
    "#The pattern we will be looking for\n",
    "vowels = \"[aeiou]\"\n",
    "\n",
    "#We are looking through the sentence below for the first vowel in the sentence\n",
    "#That vowel will be 'i'\n",
    "re.search(vowels,\"This is a sentence\") #returns a Match object\n",
    "re.search(vowels,\"This is a sentence\").group() #Will return the first character found in the pattern\n",
    "\n",
    "#Match does the same thing as search() but only works at the beginning of the string\n",
    "#If it isn't found at the beginning of the string, no match\n",
    "re.match(\"T\", \"This is a sentence\") #Will return true\n",
    "\n",
    "#To find all occurrences of the pattern in the target string, use .findall()\n",
    "re.findall(vowels, \"This is a sentence\")"
   ]
  }
 ],
 "metadata": {
  "kernelspec": {
   "display_name": "venv",
   "language": "python",
   "name": "python3"
  },
  "language_info": {
   "codemirror_mode": {
    "name": "ipython",
    "version": 3
   },
   "file_extension": ".py",
   "mimetype": "text/x-python",
   "name": "python",
   "nbconvert_exporter": "python",
   "pygments_lexer": "ipython3",
   "version": "3.10.11"
  },
  "orig_nbformat": 4
 },
 "nbformat": 4,
 "nbformat_minor": 2
}
